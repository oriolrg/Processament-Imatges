{
 "cells": [
  {
   "cell_type": "code",
   "execution_count": 1,
   "metadata": {
    "collapsed": false
   },
   "outputs": [],
   "source": [
    "from skimage import data, draw,color, data, restoration\n",
    "from skimage import transform, util\n",
    "from scipy import misc, fftpack, signal, ndimage\n",
    "import numpy as np\n",
    "from numpy.linalg import inv\n",
    "from skimage import filters, color\n",
    "from matplotlib import pyplot as plt\n",
    "from PIL import Image, ImageDraw, ImageEnhance\n",
    "import matplotlib.animation as animation\n",
    "from scipy.misc import imresize\n",
    "from scipy import ndimage as nd\n",
    "import scipy"
   ]
  },
  {
   "cell_type": "code",
   "execution_count": 2,
   "metadata": {
    "collapsed": false
   },
   "outputs": [
    {
     "name": "stdout",
     "output_type": "stream",
     "text": [
      "(48, 64)\n",
      "(48, 64, 3)\n"
     ]
    }
   ],
   "source": [
    "scale = 10\n",
    "rgb =  plt.imread('casa.jpg')\n",
    "rgb = imresize(rgb, ( rgb.shape[0]/scale,rgb.shape[1]/scale,3),interp='bilinear')\n",
    "img_LAB = color.rgb2lab(rgb.astype('float'))\n",
    "img_gris = color.rgb2gray(rgb)\n",
    "print img_gris.shape\n",
    "print rgb.shape\n",
    "fig = plt.figure(121) \n",
    "plt.imshow(rgb)\n",
    "plt.title('Original Image')\n",
    "fig = plt.figure(122) \n",
    "plt.imshow(img_LAB[:,:,2])\n",
    "plt.title('Gray image')\n",
    "plt.show()"
   ]
  },
  {
   "cell_type": "code",
   "execution_count": 3,
   "metadata": {
    "collapsed": false
   },
   "outputs": [],
   "source": [
    "def gradient(img):\n",
    "    img = color.rgb2gray(img)\n",
    "    gx, gy = np.gradient(img)\n",
    "    grad = np.sqrt(gx*gx + gy*gy)\n",
    "    return grad\n",
    "grad = gradient(img_gris)\n",
    "#normalitzacio d'imatge\n",
    "def normalitzar(imatge):\n",
    "    return np.real((imatge - np.min(imatge)) * 256 / (np.max(imatge) - np.min(imatge)))"
   ]
  },
  {
   "cell_type": "code",
   "execution_count": 4,
   "metadata": {
    "collapsed": false
   },
   "outputs": [
    {
     "name": "stdout",
     "output_type": "stream",
     "text": [
      "(48, 64)\n"
     ]
    }
   ],
   "source": [
    "#normalitzo les imatges a 255\n",
    "rgb=normalitzar(rgb)\n",
    "img_gris=normalitzar(img_gris)\n",
    "img_grad=gradient(rgb)\n",
    "img_grad=normalitzar(img_grad)\n",
    "print img_grad.shape\n",
    "plt.imshow(rgb.astype('uint8'))\n",
    "plt.title('Original Image')\n",
    "fig = plt.figure(122) \n",
    "plt.imshow(img_gris.astype('uint8'),cmap=\"gray\")\n",
    "plt.title('Gray image')\n",
    "fig = plt.figure(123) \n",
    "plt.imshow(img_grad.astype('uint8'),cmap=\"gray\")\n",
    "plt.title('Contorn')\n",
    "plt.show()"
   ]
  },
  {
   "cell_type": "code",
   "execution_count": 5,
   "metadata": {
    "collapsed": false
   },
   "outputs": [],
   "source": [
    "class get_mouse_click():\n",
    "    \n",
    "    #Mouse interaction interface for radial distortion removal.\n",
    "    def __init__(self, img):\n",
    "      height, width = img.shape[:2]\n",
    "      self.figure = plt.imshow(img, extent=(0, width, height, 0))\n",
    "      plt.gray()\n",
    "      plt.title('select the object to remove')\n",
    "      plt.xlabel('Select sets of  points with left mouse button,\\n'\n",
    "                 'click right button to close the polygon.')\n",
    "      plt.connect('button_press_event', self.button_press)\n",
    "      plt.connect('motion_notify_event', self.mouse_move)\n",
    "\n",
    "      self.img = np.atleast_3d(img)\n",
    "      self.points = []\n",
    "      self.centre = np.array([(width - 1)/2., (height - 1)/2.])\n",
    "\n",
    "      self.height = height\n",
    "      self.width = width\n",
    "\n",
    "      self.make_cursorline()\n",
    "      self.figure.axes.set_autoscale_on(False)\n",
    "\n",
    "      plt.show()\n",
    "      plt.close()\n",
    "\n",
    "    def make_cursorline(self):\n",
    "        self.cursorline, = plt.plot([0],[0],'r:+', linewidth=2,markersize=15,markeredgecolor='b')\n",
    "\n",
    "    def button_press(self,event):\n",
    "        # Register mouse clicks.\n",
    "        if (event.button == 1 and event.xdata and event.ydata):\n",
    "            self.points.append((event.xdata,event.ydata))\n",
    "            plt.gca().lines.append(self.cursorline)\n",
    "            plt.gca()\n",
    "            self.make_cursorline()\n",
    "        if (event.button != 1):\n",
    "            self.points.append((self.points[0][0],self.points[0][1]))\n",
    "            plt.close()\n",
    "            return self.points\n",
    "\n",
    "    def mouse_move(self,event):\n",
    "        # Handle cursor drawing.\n",
    "        pts_last_set=len(self.points)\n",
    "        pts = np.zeros((pts_last_set+1,2))\n",
    "        if pts_last_set > 0:\n",
    "            # Line follows up to 3 clicked points:\n",
    "            pts[:pts_last_set] = self.points[-pts_last_set:]\n",
    "            # The last point of the line follows the mouse cursor\n",
    "        pts[pts_last_set:] = [event.xdata,event.ydata]\n",
    "        self.cursorline.set_data(pts[:,0], pts[:,1])\n",
    "        plt.draw()\n",
    "def compute_mask(width,height,polygon):\n",
    "    \n",
    "    img = Image.new('L', (width, height), 0)\n",
    "    ImageDraw.Draw(img).polygon(polygon, outline=1, fill=1)\n",
    "    mask = np.array(img)\n",
    "    #mask100 = 100*np.ones([mask.shape[0],mask.shape[1]])\n",
    "    #mask=mask*101\n",
    "    #mask = 1. - mask; # switch 0s and 1s\n",
    "    return mask\n",
    "def convine_mask(zona_delete,img_gris):\n",
    "    #si tenim 1 a la macara tenim forat\n",
    "    for i in xrange(len(img_gris)):\n",
    "        for j in xrange(len(img_gris[0])):\n",
    "            if zona_delete[i][j]==1:\n",
    "                img_gris[i][j]=-100\n",
    "    return img_gris\n",
    "def buscar_pix(img,t,r,finestra):   \n",
    "    for i in xrange(len(img)):\n",
    "        for j in xrange(len(img[0])):\n",
    "            \n",
    "            if img[i][j]!=-100:\n",
    "                #if img[i][j]-img[t][r]<=0.1 and grad[i][j]-grad[t][r]<=0.1:\n",
    "                if img[i][j]-img[t][r]<=0.8:\n",
    "                    pix=(img[i][j]+img[i-1][j-1]+img[i-1][j]+img[i][j-1])/4\n",
    "                    #print \"t,r\",img_mask[t][r]\n",
    "                    #print \"i,j\",img_mask[i][j]\n",
    "                    return pix\n",
    "def reccorrer_img(finestra,finestra_validar,img_gris,t,r,vent):\n",
    "    dif=19999999990.\n",
    "    for i in xrange(len(img_gris)-vent):\n",
    "        for j in xrange(len(img_gris[0])-vent):\n",
    "            valors = millors_pix(finestra,finestra_validar,img_gris,i,j)\n",
    "            #si la puntuació es inferior al valor es que es prou semblant\n",
    "            if valors <dif:\n",
    "                \n",
    "                dif=valors\n",
    "                valor=i,j\n",
    "    print valor\n",
    "    return valor\n",
    "                \n",
    "def millors_pix(finestra,finestra_validar,img_gris,t,r):\n",
    "    #print finestra.shape\n",
    "    #print finestra_validar.shape\n",
    "    total_ones_mask = finestra_validar.sum()\n",
    "    #aqui fariem el calcul de la formula explicada pel professor\n",
    "    #1/numero de 1 de la mascara*(Ixy-Fxy)² ssd = float(np.sum((img_gris[:,:,0:3] - finestra[:,:,0:3])**2))\n",
    "    for i in xrange(len(finestra_validar)):\n",
    "        for j in xrange(len(finestra_validar[0])):\n",
    "            ssd = float(np.sum(finestra_validar[i][j]*(img_gris[t+i,r+i] - finestra[i][j])**2))\n",
    "\n",
    "    #print finestra_validar\n",
    "    #print (1./total_ones_mask)*ssd\n",
    "    return (1./total_ones_mask)*ssd"
   ]
  },
  {
   "cell_type": "code",
   "execution_count": null,
   "metadata": {
    "collapsed": false
   },
   "outputs": [
    {
     "name": "stdout",
     "output_type": "stream",
     "text": [
      "(31, 47)\n",
      "(31, 47)\n",
      "(31, 47)\n",
      "(31, 47)\n",
      "(31, 47)\n",
      "(31, 47)\n",
      "(31, 47)\n",
      "(31, 47)\n",
      "(31, 47)\n",
      "(31, 47)\n",
      "(31, 47)\n",
      "(31, 47)\n",
      "(31, 47)"
     ]
    }
   ],
   "source": [
    "rdi = get_mouse_click(img_gris.astype('uint8'))\n",
    "height,width=img_gris.shape\n",
    "zona_delete = compute_mask(width,height,rdi.points)\n",
    "##################3faltaria el tema que va comentar d'usuar una imatge copia xk no afectes.\n",
    "#####################per altra part a la herba no funciona\n",
    "#calculo el primer contorn a substituir restant la mascara menys ella mateixa erosionada\n",
    "cont=0\n",
    "vent =16\n",
    "for p in xrange(5):\n",
    "    zona_delete_erosio=ndimage.binary_erosion(zona_delete)\n",
    "    #busco el contorn mes extern de la part a substituir\n",
    "    delete_ceva =zona_delete - zona_delete_erosio \n",
    "    #actualitzo la mascara amb el que ja haurem substituit\n",
    "    zona_delete = zona_delete_erosio\n",
    "    finestra = np.zeros((vent,vent))\n",
    "    finestra_validar = np.ones((vent,vent), dtype=np.int)\n",
    "    img_gris_convine=convine_mask(zona_delete,img_gris)\n",
    "    for i in xrange(len(delete_ceva)):\n",
    "        for j in xrange(len(delete_ceva[0])):\n",
    "            if delete_ceva[i][j]==1:\n",
    "                #print i,j\n",
    "                finestra=zona_delete[i-vent/2:i+vent/2,j-vent/2:j+vent/2]\n",
    "                #finestra2 per multiplicar on tenim 0 on hi haura el forat\n",
    "                finestra_validar=abs(finestra-finestra_validar)\n",
    "                #finestra_retorna=funcio que retornara la finestra mes similar\n",
    "                t,r=reccorrer_img(finestra,finestra_validar,img_gris_convine,i,j,vent)\n",
    "                img_gris[i][j]=img_gris[t][r]\n",
    "                misc.imsave('imatges/'+str(cont+1)+'.png',img_gris)\n",
    "                cont= cont +1\n",
    "                #fig = plt.figure(123) \n",
    "                #plt.imshow(img_gris)\n",
    "                #plt.title('Contorn')\n",
    "                #plt.show()\n",
    "            \n"
   ]
  },
  {
   "cell_type": "code",
   "execution_count": null,
   "metadata": {
    "collapsed": false
   },
   "outputs": [],
   "source": [
    "#finestra de 9x9\n",
    "millors_pix(finestra,finestra_validar,img_gris_convine,i,j)"
   ]
  },
  {
   "cell_type": "code",
   "execution_count": null,
   "metadata": {
    "collapsed": false
   },
   "outputs": [],
   "source": [
    "for i in xrange(5,9):\n",
    "    for j in xrange(5,9):\n",
    "        print i,j\n"
   ]
  },
  {
   "cell_type": "raw",
   "metadata": {},
   "source": []
  },
  {
   "cell_type": "code",
   "execution_count": 29,
   "metadata": {
    "collapsed": false
   },
   "outputs": [],
   "source": [
    "plt.imshow(img_gris)\n",
    "plt.title('img_mask')\n",
    "plt.show()"
   ]
  },
  {
   "cell_type": "code",
   "execution_count": 8,
   "metadata": {
    "collapsed": false
   },
   "outputs": [
    {
     "data": {
      "text/plain": [
       "256.0"
      ]
     },
     "execution_count": 8,
     "metadata": {},
     "output_type": "execute_result"
    }
   ],
   "source": [
    "np.max(img_gris)"
   ]
  },
  {
   "cell_type": "code",
   "execution_count": null,
   "metadata": {
    "collapsed": false
   },
   "outputs": [],
   "source": [
    "#codigos de pruevas\n",
    "\n",
    "img_mask = convine_mask(zona_delete,img_gris)\n",
    "finestra=5\n",
    "print np.min(zona_delete)\n",
    "cont = 0\n",
    "for i in xrange(len(img_mask)):\n",
    "    for j in xrange(len(img_mask[0])):\n",
    "        if img_mask[i][j]==-100:\n",
    "            #faltaria fer que compari el valor del gradient i el valor del pixel\n",
    "            t,r= buscar_pix(img_mask,i,j-1,finestra)\n",
    "\n",
    "            img_mask[i][j]=img_mask[t][r]\n",
    "            #img_mask[i-5:i+5,j-5:j+5]=part\n",
    "            #img_mask[i-5:i+5][j-5:j+5]=img_mask[t-5:j+5][r-5:j+5]\n",
    "            #misc.imsave('imatges/'+str(cont+1)+'.png', img_mask)\n",
    "            #cont  += 1\n",
    "\n",
    "\n",
    "\n",
    "\n",
    "plt.imshow(img_mask)\n",
    "plt.title('img_mask')\n",
    "plt.show()\n",
    "\n",
    "\n",
    "print len(img_gris[0])\n",
    "\n",
    "\n",
    "def bucarpath(img,finestra,t,r):\n",
    "    path = np.zeros((finestra*2,finestra*2))\n",
    "    path = img[t-finestra:t+finestra,r-finestra:r+finestra]\n",
    "    return path\n",
    "prova=bucarpath(img_gris,5,275,439)\n",
    "fig = plt.figure(123) \n",
    "plt.imshow(img_gris,cmap=\"gray\")\n",
    "plt.title('img_mask')\n",
    "\n",
    "sub=bucarpath(img_gris,5,238,413)\n",
    "img_gris[275-5:275+5,429-5:429+5]=sub\n",
    "fig = plt.figure(124) \n",
    "plt.imshow(img_gris,cmap=\"gray\")\n",
    "plt.title('img_mask')\n",
    "plt.show()"
   ]
  },
  {
   "cell_type": "code",
   "execution_count": null,
   "metadata": {
    "collapsed": false
   },
   "outputs": [],
   "source": []
  },
  {
   "cell_type": "code",
   "execution_count": null,
   "metadata": {
    "collapsed": true
   },
   "outputs": [],
   "source": []
  }
 ],
 "metadata": {
  "kernelspec": {
   "display_name": "Python 2",
   "language": "python",
   "name": "python2"
  },
  "language_info": {
   "codemirror_mode": {
    "name": "ipython",
    "version": 2
   },
   "file_extension": ".py",
   "mimetype": "text/x-python",
   "name": "python",
   "nbconvert_exporter": "python",
   "pygments_lexer": "ipython2",
   "version": "2.7.10"
  }
 },
 "nbformat": 4,
 "nbformat_minor": 0
}
