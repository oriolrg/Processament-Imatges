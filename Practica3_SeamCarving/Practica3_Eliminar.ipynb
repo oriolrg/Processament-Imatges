{
 "cells": [
  {
   "cell_type": "code",
   "execution_count": 1,
   "metadata": {
    "collapsed": true
   },
   "outputs": [],
   "source": [
    "from skimage import data, draw,color, data, restoration\n",
    "from skimage import transform, util\n",
    "from scipy import misc, fftpack, signal\n",
    "import numpy as np\n",
    "from skimage import filters, color\n",
    "from matplotlib import pyplot as plt\n",
    "from PIL import Image, ImageDraw, ImageEnhance\n",
    "import matplotlib.animation as animation\n",
    "from scipy.misc import imresize\n",
    "from scipy import ndimage as nd\n",
    "import scipy\n",
    "#deixar la linea comentada perque les imatges s'obrin en una nova finestra i es pugui veure l'animació\n",
    "#%matplotlib inline "
   ]
  },
  {
   "cell_type": "code",
   "execution_count": 2,
   "metadata": {
    "collapsed": false
   },
   "outputs": [],
   "source": [
    "rgb =  plt.imread('agbar.png')\n",
    "img = color.rgb2gray(rgb)\n",
    "img = util.img_as_float(img)\n",
    "fig = plt.figure(1) \n",
    "plt.imshow(rgb)\n",
    "plt.title('Original Image')\n",
    "plt.show()"
   ]
  },
  {
   "cell_type": "code",
   "execution_count": 3,
   "metadata": {
    "collapsed": false
   },
   "outputs": [],
   "source": [
    "def gradient(img):\n",
    "    img = color.rgb2gray(img)\n",
    "    gx, gy = np.gradient(img)\n",
    "    grad = np.sqrt(gx*gx + gy*gy)\n",
    "    return grad\n",
    "grad = gradient(img)\n",
    "\n",
    "fig = plt.figure(2) \n",
    "plt.title('Contorns imatge')\n",
    "plt.imshow(grad, cmap=\"gray\" )\n",
    "plt.show()"
   ]
  },
  {
   "cell_type": "code",
   "execution_count": 4,
   "metadata": {
    "collapsed": false
   },
   "outputs": [],
   "source": [
    "#normalitzacio d'imatge\n",
    "def normalitzar(imatge):\n",
    "    return np.real((imatge - np.min(imatge)) * 256 / (np.max(imatge) - np.min(imatge)))"
   ]
  },
  {
   "cell_type": "code",
   "execution_count": 5,
   "metadata": {
    "collapsed": false
   },
   "outputs": [],
   "source": [
    "\n",
    "#Calcul matriu d'energia que te cada zona\n",
    "def energia(imatge):\n",
    "    height,width = imatge.shape\n",
    "    energia=np.zeros(imatge.shape)\n",
    "    #asignem la primera linea igual que la imatge que tenim\n",
    "    energia[0]=imatge[0]   \n",
    "    for x in range(1,height):\n",
    "        for y in range(0,width):\n",
    "            if y == 0:\n",
    "                min_val = min( energia[x-1, y], energia[x-1, y+1] )\n",
    "            elif y < width - 2:\n",
    "                min_val = min( energia[x-1, y], energia[x-1, y+1] )\n",
    "                min_val = min( min_val, energia[x-1, y-1] )\n",
    "            else:\n",
    "                min_val = min( energia[x-1, y], energia[x-1, y-1] )\n",
    "            energia[x,y] = imatge[x,y] + min_val\n",
    "    return energia\n",
    "            \n",
    "    \n",
    "    "
   ]
  },
  {
   "cell_type": "code",
   "execution_count": 6,
   "metadata": {
    "collapsed": true
   },
   "outputs": [],
   "source": [
    "#SELECCIÓ INTERACTIVA DE LA ZONA A BORRAR\n",
    "class get_mouse_click():\n",
    "    \"\"\"Mouse interaction interface for radial distortion removal.\n",
    "\n",
    "    \"\"\"\n",
    "    def __init__(self, img):\n",
    "      height, width = img.shape[:2]\n",
    "      self.figure = plt.imshow(img, extent=(0, width, height, 0))\n",
    "      plt.gray()\n",
    "      plt.title('select the object to remove')\n",
    "      plt.xlabel('Select sets of  points with left mouse button,\\n'\n",
    "                 'click right button to close the polygon.')\n",
    "      plt.connect('button_press_event', self.button_press)\n",
    "      plt.connect('motion_notify_event', self.mouse_move)\n",
    "\n",
    "      self.img = np.atleast_3d(img)\n",
    "      self.points = []\n",
    "      self.centre = np.array([(width - 1)/2., (height - 1)/2.])\n",
    "\n",
    "      self.height = height\n",
    "      self.width = width\n",
    "\n",
    "      self.make_cursorline()\n",
    "      self.figure.axes.set_autoscale_on(False)\n",
    "\n",
    "      plt.show()\n",
    "      plt.close()\n",
    "\n",
    "    def make_cursorline(self):\n",
    "        self.cursorline, = plt.plot([0],[0],'r:+',\n",
    "                                    linewidth=2,markersize=15,markeredgecolor='b')\n",
    "\n",
    "    def button_press(self,event):\n",
    "        \"\"\"Register mouse clicks.\n",
    "\n",
    "        \"\"\"\n",
    "        if (event.button == 1 and event.xdata and event.ydata):\n",
    "            self.points.append((event.xdata,event.ydata))\n",
    "            print \"Coordinate entered: (%f,%f)\" % (event.xdata, event.ydata)\n",
    "\n",
    "            #if len(self.points) % 2 == 0:\n",
    "            plt.gca().lines.append(self.cursorline)\n",
    "            self.make_cursorline()\n",
    "\n",
    "        if (event.button != 1):\n",
    "            #print \"pepito: \" ,self.points\n",
    "            self.points.append((self.points[0][0],self.points[0][1]))\n",
    "            plt.close()\n",
    "            return self.points\n",
    "            #qui\n",
    "            #print \"Removing distortion...\"\n",
    "            #plt.gca().lines = []\n",
    "            #plt.draw()\n",
    "            #self.remove_distortion()\n",
    "            #self.points = []\n",
    "\n",
    "    def mouse_move(self,event):\n",
    "        \"\"\"Handle cursor drawing.\n",
    "\n",
    "        \"\"\"\n",
    "        #pt_sets, pts_last_set = divmod(len(self.points),5)\n",
    "        #print pts_last_set\n",
    "        pts_last_set=len(self.points)\n",
    "        #print pts_last_set2\n",
    "        pts = np.zeros((pts_last_set+1,2))\n",
    "        if pts_last_set > 0:\n",
    "            # Line follows up to 3 clicked points:\n",
    "            pts[:pts_last_set] = self.points[-pts_last_set:]\n",
    "            # The last point of the line follows the mouse cursor\n",
    "        pts[pts_last_set:] = [event.xdata,event.ydata]\n",
    "        #print pts\n",
    "        self.cursorline.set_data(pts[:,0], pts[:,1])\n",
    "        plt.draw()\n",
    "\n",
    "\n",
    "def compute_mask(width,height,polygon):\n",
    "    \n",
    "    img = Image.new('L', (width, height), 0)\n",
    "    ImageDraw.Draw(img).polygon(polygon, outline=1, fill=1)\n",
    "    mask = np.array(img)\n",
    "    mask100 = 100*np.ones([mask.shape[0],mask.shape[1]])\n",
    "    mask=mask*101\n",
    "    mask = 1. - mask; # switch 0s and 1s\n",
    "    return mask"
   ]
  },
  {
   "cell_type": "code",
   "execution_count": 7,
   "metadata": {
    "collapsed": false
   },
   "outputs": [],
   "source": [
    "# El calcul del tall vertical hem de buscar el cami amb cost minim. BACKTRACKING\n",
    "# Aquest tall pot ser vertical o horitzontal, es un camí de pixels connectats. En el nostre cas l'apliquem vertical\n",
    "# La función de importancia / energía valora un píxel mediante la medición de su contraste con sus píxeles vecinos.\n",
    "# Des de la imatge en escala de grisos retornarem el tall vertical mes baix com a llista de pixels\n",
    "\n",
    "def tall_vertical(grad,cost):\n",
    "    # Anem fins al -1 perque aixi es quedara en el 0, que tambe el necessitem.\n",
    "    width, height = grad.shape\n",
    "    \n",
    "    min_val = 1e1000\n",
    "    path = []\n",
    "    for y in range(height):\n",
    "        if cost[width-1,y] < min_val:\n",
    "            min_val = cost[width-1,y]\n",
    "            min_ptr = y\n",
    "    pos = (width-1, min_ptr)\n",
    "    path.append(pos) \n",
    "    while pos[0] != 0:\n",
    "        val = cost[pos] - grad[pos]\n",
    "        x,y = pos\n",
    "        if y == 0:\n",
    "            if val == cost[x-1,y+1]:\n",
    "                pos = (x-1,y+1)\n",
    "            else:\n",
    "                pos = (x-1,y)\n",
    "        elif y <= height - 2:\n",
    "            if val == cost[x-1,y+1]:\n",
    "                pos = (x-1,y+1)\n",
    "            elif val == cost[x-1,y]:\n",
    "                pos = (x-1,y)\n",
    "            else:\n",
    "                pos = (x-1,y-1)\n",
    "        else:\n",
    "            if val == cost[x-1,y]:\n",
    "                pos = (x-1,y)\n",
    "            else:\n",
    "                pos = (x-1,y-1)\n",
    "                \n",
    "        path.append(pos)  \n",
    "    return path\n"
   ]
  },
  {
   "cell_type": "code",
   "execution_count": null,
   "metadata": {
    "collapsed": true
   },
   "outputs": [],
   "source": []
  },
  {
   "cell_type": "code",
   "execution_count": 8,
   "metadata": {
    "collapsed": false
   },
   "outputs": [],
   "source": [
    "def borrar_cami (img, path):\n",
    "    #modifiquem la funció perque pugui borrar tant de la imatge com la mascara\n",
    "    height, width = img.shape[:2]\n",
    "    if(len(img.shape) > 2):\n",
    "        img_retallada = np.zeros((height, width-1, img.shape[2]))\n",
    "    else:\n",
    "        img_retallada = np.zeros((height, width-1))\n",
    "    path_cpy = set(path)\n",
    "    visitat = set()\n",
    "    #print path[1]\n",
    "    for x in range(height):\n",
    "        for y in range(width):\n",
    "            if x not in visitat and (x,y) not in path_cpy:\n",
    "                img_retallada[x,y] = img[x,y]\n",
    "            elif (x,y) in path_cpy:\n",
    "                visitat.add(x)\n",
    "            else:\n",
    "                img_retallada[x,y-1] = img[x,y]\n",
    "    #print img_retallada.shape\n",
    "    return img_retallada;\n",
    "\n",
    "def mark_seam (mat, path, mark_as='red'):\n",
    "    #Dono maxim valor al canal corresponent al color escollit a tots els pixels del path que ens marca el cami a borrar\n",
    "    for i in path:\n",
    "        if mark_as == 'red':\n",
    "            mat[i] = (255,0,0)\n",
    "        elif mark_as == 'green':\n",
    "            mat[i] = (0,255,0)\n",
    "        elif mark_as == 'blue':\n",
    "            mat[i] = (0,0,255)\n",
    "        elif mark_as == 'white':\n",
    "            mat[i] = (255,255,255)\n",
    "        elif mark_as == 'black':\n",
    "            mat[i] = (0,0,0)\n",
    "    \n",
    "    return mat;                 \n"
   ]
  },
  {
   "cell_type": "code",
   "execution_count": 9,
   "metadata": {
    "collapsed": true
   },
   "outputs": [],
   "source": [
    "def apply_mask(img, mask):    \n",
    "    masked = img.copy()\n",
    "\n",
    "    for x in xrange(mask.shape[0]):\n",
    "        for y in xrange(mask.shape[1]):\n",
    "            if mask[x,y] == -100:\n",
    "                masked[x,y] = mask[x,y]\n",
    "    return masked"
   ]
  },
  {
   "cell_type": "code",
   "execution_count": 32,
   "metadata": {
    "collapsed": false
   },
   "outputs": [
    {
     "name": "stdout",
     "output_type": "stream",
     "text": [
      "Coordinate entered: (243.750000,160.416667)\n",
      "Coordinate entered: (216.666667,287.500000)\n",
      "Coordinate entered: (212.500000,414.583333)\n",
      "Coordinate entered: (208.333333,452.083333)\n",
      "Coordinate entered: (297.916667,452.083333)\n",
      "Coordinate entered: (318.750000,452.083333)\n",
      "Coordinate entered: (314.583333,331.250000)\n",
      "Coordinate entered: (310.416667,252.083333)\n",
      "Coordinate entered: (289.583333,164.583333)\n",
      "Coordinate entered: (247.916667,152.083333)\n"
     ]
    }
   ],
   "source": [
    "#Test de sel-lecció de la mascara i impresio de l'energia i bascara selecionada\n",
    "rgb =  plt.imread('agbar.png')\n",
    "img = color.rgb2gray(rgb)\n",
    "img = util.img_as_float(img)\n",
    "width, height = img.shape\n",
    "rdi = get_mouse_click(rgb)\n",
    "polygon = rdi.points\n",
    "mascara = compute_mask(height, width, polygon)\n",
    "grad = apply_mask(gradient(img), mascara)\n",
    "E = energia(grad)\n",
    "fig = plt.figure(4) \n",
    "plt.title('Contorns imatge')\n",
    "plt.imshow(grad, cmap=\"gray\" )\n",
    "plt.show()\n",
    "E = energia(grad)\n",
    "fig = plt.figure(5) \n",
    "plt.title('Acumulacio energia')\n",
    "plt.imshow(E, cmap=\"gray\" )\n",
    "plt.show()"
   ]
  },
  {
   "cell_type": "code",
   "execution_count": 10,
   "metadata": {
    "collapsed": false
   },
   "outputs": [],
   "source": [
    "#execució del seam carving que ens elimina l'objecte \n",
    "def carving(imatge,mascara):\n",
    "    path = []\n",
    "    \n",
    "    rgb = imatge\n",
    "    seams = []\n",
    "    print \"Calculant\",\n",
    "    for t in range(100):\n",
    "        print \".\",\n",
    "        path = []\n",
    "        grad = apply_mask(gradient(rgb), mascara)\n",
    "        E = energia(grad)\n",
    "        path = tall_vertical(grad,E)\n",
    "        rgb = mark_seam(rgb, path, 'red')\n",
    "        seams.append([plt.imshow(rgb)])\n",
    "        rgb = borrar_cami(rgb, path)\n",
    "        mascara = borrar_cami(mascara, path)\n",
    "    print \" Proces Finalitzat\"   \n",
    "    return rgb,seams;"
   ]
  },
  {
   "cell_type": "code",
   "execution_count": 11,
   "metadata": {
    "collapsed": false
   },
   "outputs": [
    {
     "name": "stdout",
     "output_type": "stream",
     "text": [
      "Coordinate entered: (241.666667,162.500000)\n",
      "Coordinate entered: (218.750000,270.833333)\n",
      "Coordinate entered: (218.750000,435.416667)\n",
      "Coordinate entered: (266.666667,447.916667)\n",
      "Coordinate entered: (308.333333,450.000000)\n",
      "Coordinate entered: (310.416667,279.166667)\n",
      "Coordinate entered: (285.416667,172.916667)\n",
      "Coordinate entered: (258.333333,154.166667)\n"
     ]
    }
   ],
   "source": [
    "# Selecciono l'area a borrar\n",
    "rgb =  plt.imread('agbar.png')\n",
    "img = color.rgb2gray(rgb)\n",
    "width, height = img.shape\n",
    "selected_area = get_mouse_click(rgb)\n",
    "polygon = selected_area.points\n",
    "\n",
    "# Calculo l'objecte a borrar\n",
    "mascara = compute_mask(height, width, polygon)\n",
    "\n",
    "\n",
    "\n",
    "\n",
    "\n",
    "\n"
   ]
  },
  {
   "cell_type": "code",
   "execution_count": 12,
   "metadata": {
    "collapsed": false,
    "scrolled": true
   },
   "outputs": [
    {
     "name": "stdout",
     "output_type": "stream",
     "text": [
      "Calculant . . . . . . . . . . . . . . . . . . . . . . . . . . . . . . . . . . . . . . . . . . . . . . . . . . . . . . . . . . . . . . . . . . . . . . . . . . . . . . . . . . . . . . . . . . . . . . . . . . . .  Proces Finalitzat\n"
     ]
    },
    {
     "data": {
      "text/plain": [
       "<matplotlib.image.AxesImage at 0x7f99813a2a10>"
      ]
     },
     "execution_count": 12,
     "metadata": {},
     "output_type": "execute_result"
    }
   ],
   "source": [
    "\n",
    "\n",
    "imatge_reduida, seams = carving(rgb, mascara)\n",
    "fig = plt.figure(6)\n",
    "plt.title('Imatge Retallada')\n",
    "plt.imshow(imatge_reduida)\n",
    "\n",
    "\n"
   ]
  },
  {
   "cell_type": "code",
   "execution_count": 13,
   "metadata": {
    "collapsed": false
   },
   "outputs": [],
   "source": [
    "#run animation\n",
    "ani = animation.ArtistAnimation(fig, seams, interval=100, blit=True, repeat_delay=1000);\n",
    "plt.show();\n",
    "plt.title('Objecte eliminat')\n",
    "plt.imshow(imatge_reduida)\n",
    "plt.show()\n",
    "#scipy.misc.imsave('Objecte_eliminat.jpg', imatge_reduida)\n",
    "\n"
   ]
  },
  {
   "cell_type": "code",
   "execution_count": 80,
   "metadata": {
    "collapsed": true
   },
   "outputs": [],
   "source": [
    "######################Comparacio RESULTATS\n",
    "fig = plt.figure(7)\n",
    "plt.subplot(1,2,1)\n",
    "plt.imshow(plt.imread('agbar.png'))\n",
    "plt.title('Original')\n",
    "plt.subplot(1,2,2)\n",
    "plt.imshow(imatge_reduida)\n",
    "plt.title('Objecte sel.lecionat eliminat')\n",
    "plt.gcf().set_size_inches((15,15))\n",
    "plt.show()"
   ]
  },
  {
   "cell_type": "code",
   "execution_count": null,
   "metadata": {
    "collapsed": true
   },
   "outputs": [],
   "source": []
  }
 ],
 "metadata": {
  "kernelspec": {
   "display_name": "Python 2",
   "language": "python",
   "name": "python2"
  },
  "language_info": {
   "codemirror_mode": {
    "name": "ipython",
    "version": 2
   },
   "file_extension": ".py",
   "mimetype": "text/x-python",
   "name": "python",
   "nbconvert_exporter": "python",
   "pygments_lexer": "ipython2",
   "version": "2.7.10"
  }
 },
 "nbformat": 4,
 "nbformat_minor": 0
}
