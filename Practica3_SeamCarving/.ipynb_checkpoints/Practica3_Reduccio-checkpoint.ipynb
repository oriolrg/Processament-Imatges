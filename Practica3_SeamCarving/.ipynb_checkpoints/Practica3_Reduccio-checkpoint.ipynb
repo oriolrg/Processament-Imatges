{
 "cells": [
  {
   "cell_type": "code",
   "execution_count": 64,
   "metadata": {
    "collapsed": true
   },
   "outputs": [],
   "source": [
    "from skimage import data, draw,color, data, restoration\n",
    "from skimage import transform, util\n",
    "from scipy import misc, fftpack, signal\n",
    "import numpy as np\n",
    "from skimage import filters, color\n",
    "from matplotlib import pyplot as plt\n",
    "from PIL import Image, ImageDraw, ImageEnhance\n",
    "import matplotlib.animation as animation\n",
    "from scipy.misc import imresize\n",
    "from scipy import ndimage as nd\n",
    "import scipy\n",
    "\n",
    "#%matplotlib inline"
   ]
  },
  {
   "cell_type": "code",
   "execution_count": null,
   "metadata": {
    "collapsed": true
   },
   "outputs": [],
   "source": []
  },
  {
   "cell_type": "code",
   "execution_count": null,
   "metadata": {
    "collapsed": false
   },
   "outputs": [],
   "source": []
  },
  {
   "cell_type": "code",
   "execution_count": 66,
   "metadata": {
    "collapsed": false
   },
   "outputs": [],
   "source": [
    "rgb =  plt.imread('countryside.jpg')\n",
    "img = color.rgb2gray(rgb)\n",
    "img = util.img_as_float(img)\n",
    "fig = plt.figure(1) \n",
    "plt.imshow(rgb.astype('uint8'))\n",
    "plt.title('Original Image')\n",
    "plt.show()\n"
   ]
  },
  {
   "cell_type": "code",
   "execution_count": 67,
   "metadata": {
    "collapsed": false
   },
   "outputs": [],
   "source": [
    "def gradient(img):\n",
    "    img = color.rgb2gray(img)\n",
    "    gx, gy = np.gradient(img)\n",
    "    grad = np.sqrt(gx*gx + gy*gy)\n",
    "    return grad\n",
    "grad = gradient(img)\n",
    "\n",
    "fig = plt.figure(2) \n",
    "plt.title('Contorns imatge')\n",
    "plt.imshow(grad, cmap=\"gray\" )\n",
    "plt.show()"
   ]
  },
  {
   "cell_type": "code",
   "execution_count": 68,
   "metadata": {
    "collapsed": false
   },
   "outputs": [],
   "source": [
    "#normalitzacio d'imatge\n",
    "def normalitzar(imatge):\n",
    "    return np.real((imatge - np.min(imatge)) * 256 / (np.max(imatge) - np.min(imatge)))"
   ]
  },
  {
   "cell_type": "code",
   "execution_count": 69,
   "metadata": {
    "collapsed": false
   },
   "outputs": [],
   "source": [
    "\n",
    "#Calcul matriu d'energia que acomulada te cada zona\n",
    "def energia(imatge):\n",
    "    height,width = imatge.shape\n",
    "    energia=np.zeros(imatge.shape)\n",
    "    #asignem la primera linea igual que la imatge que tenim\n",
    "    energia[0]=imatge[0]   \n",
    "    for x in range(1,height):\n",
    "        for y in range(0,width):\n",
    "            if y == 0:#inici de la imatge\n",
    "                min_val = min( energia[x-1, y], energia[x-1, y+1] )\n",
    "            elif y < width - 2:#abans del final de la imatge\n",
    "                min_val = min( energia[x-1, y], energia[x-1, y+1] )\n",
    "                min_val = min( min_val, energia[x-1, y-1] )\n",
    "            else:#final de la imatge\n",
    "                min_val = min( energia[x-1, y], energia[x-1, y-1] )\n",
    "            energia[x,y] = imatge[x,y] + min_val#valor acomulat d'energia\n",
    "    return energia\n",
    "            \n",
    "    \n",
    "    "
   ]
  },
  {
   "cell_type": "code",
   "execution_count": 70,
   "metadata": {
    "collapsed": false
   },
   "outputs": [],
   "source": [
    "grad=normalitzar(grad)\n",
    "E = energia(grad)\n",
    "fig = plt.figure(3) \n",
    "plt.title('Acumulacio energia')\n",
    "plt.imshow(E, cmap=\"gray\" )\n",
    "plt.show()\n",
    "\n",
    "\n"
   ]
  },
  {
   "cell_type": "code",
   "execution_count": 71,
   "metadata": {
    "collapsed": false
   },
   "outputs": [],
   "source": [
    "# El calcul del tall vertical hem de buscar el cami amb cost minim. BACKTRACKING\n",
    "# Aquest tall pot ser vertical o horitzontal, es un camí de pixels connectats. En el nostre cas l'apliquem vertical\n",
    "# La función de importancia / energía valora un píxel mediante la medición de su contraste con sus píxeles vecinos.\n",
    "# Des de la imatge en escala de grisos retornarem el tall vertical mes baix com a llista de pixels\n",
    "\n",
    "def tall_vertical(grad,cost):\n",
    "    # Anem fins al -1 perque aixi es quedara en el 0, que tambe el necessitem.\n",
    "    width, height = grad.shape\n",
    "    min_val =np.max(cost)+1\n",
    "    path = []\n",
    "    for y in range(height):\n",
    "        if cost[width-1,y] < min_val:\n",
    "            min_val = cost[width-1,y]\n",
    "            min_ptr = y\n",
    "            \n",
    "    pos = (width-1, min_ptr)\n",
    "    path.append(pos) \n",
    "    while pos[0] != 0:\n",
    "        val = cost[pos] - grad[pos]\n",
    "        x,y = pos\n",
    "        if y == 0:\n",
    "            if val == cost[x-1,y+1]:\n",
    "                pos = (x-1,y+1)\n",
    "            else:\n",
    "                pos = (x-1,y)\n",
    "        elif y <= height - 2:\n",
    "            if val == cost[x-1,y+1]:\n",
    "                pos = (x-1,y+1)\n",
    "            elif val == cost[x-1,y]:\n",
    "                pos = (x-1,y)\n",
    "            else:\n",
    "                pos = (x-1,y-1)\n",
    "        else:\n",
    "            if val == cost[x-1,y]:\n",
    "                pos = (x-1,y)\n",
    "            else:\n",
    "                pos = (x-1,y-1)\n",
    "                \n",
    "        path.append(pos)  \n",
    "    return path \n"
   ]
  },
  {
   "cell_type": "code",
   "execution_count": 72,
   "metadata": {
    "collapsed": false
   },
   "outputs": [],
   "source": [
    "def borrar_cami (img, path):\n",
    "    height, width = img.shape[:2]\n",
    "    img_retallada = np.zeros((height, width-1, img.shape[2]))\n",
    "    path_cpy = set(path)\n",
    "    visitat = set()\n",
    "    #print path[1]\n",
    "    for x in range(height):\n",
    "        for y in range(width):\n",
    "            if x not in visitat and (x,y) not in path_cpy:\n",
    "                img_retallada[x,y] = img[x,y]\n",
    "            elif (x,y) in path_cpy:\n",
    "                visitat.add(x)\n",
    "            else:\n",
    "                img_retallada[x,y-1] = img[x,y]\n",
    "    #print img_retallada.shape\n",
    "    return img_retallada;\n",
    "\n",
    "            \n"
   ]
  },
  {
   "cell_type": "code",
   "execution_count": 91,
   "metadata": {
    "collapsed": false
   },
   "outputs": [],
   "source": [
    "def carving(imatge,iterations):\n",
    "    path = []\n",
    "    #path= tall_vertical(h, llistaBacktracking[2], E, path)    \n",
    "    #borrar_cami(grad, path)\n",
    "    #rgb =  plt.imread('countryside.jpg')\n",
    "    rgb = imatge\n",
    "    seams = []\n",
    "    for t in range(iterations): \n",
    "        path = []\n",
    "        grad=gradient(rgb)\n",
    "        E = energia(grad)\n",
    "        path = tall_vertical(grad,E)\n",
    "        seams.append([plt.imshow(rgb.astype('uint8'))])\n",
    "        rgb = borrar_cami(rgb, path)\n",
    "        print \"iteracio \"+str(t),\"\\tseam carven\", rgb.shape\n",
    "    return rgb,seams;\n"
   ]
  },
  {
   "cell_type": "code",
   "execution_count": 97,
   "metadata": {
    "collapsed": false,
    "scrolled": true
   },
   "outputs": [
    {
     "name": "stdout",
     "output_type": "stream",
     "text": [
      "iteracio 0 \tseam carven (281, 499, 3)\n",
      "iteracio 1 \tseam carven (281, 498, 3)\n",
      "iteracio 2 \tseam carven (281, 497, 3)\n",
      "iteracio 3 \tseam carven (281, 496, 3)\n",
      "iteracio 4 \tseam carven (281, 495, 3)\n",
      "iteracio 5 \tseam carven (281, 494, 3)\n",
      "iteracio 6 \tseam carven (281, 493, 3)\n",
      "iteracio 7 \tseam carven (281, 492, 3)\n",
      "iteracio 8 \tseam carven (281, 491, 3)\n",
      "iteracio 9 \tseam carven (281, 490, 3)\n",
      "iteracio 10 \tseam carven (281, 489, 3)\n",
      "iteracio 11 \tseam carven (281, 488, 3)\n",
      "iteracio 12 \tseam carven (281, 487, 3)\n",
      "iteracio 13 \tseam carven (281, 486, 3)\n",
      "iteracio 14 \tseam carven (281, 485, 3)\n",
      "iteracio 15 \tseam carven (281, 484, 3)\n",
      "iteracio 16 \tseam carven (281, 483, 3)\n",
      "iteracio 17 \tseam carven (281, 482, 3)\n",
      "iteracio 18 \tseam carven (281, 481, 3)\n",
      "iteracio 19 \tseam carven (281, 480, 3)\n",
      "iteracio 20 \tseam carven (281, 479, 3)\n",
      "iteracio 21 \tseam carven (281, 478, 3)\n",
      "iteracio 22 \tseam carven (281, 477, 3)\n",
      "iteracio 23 \tseam carven (281, 476, 3)\n",
      "iteracio 24 \tseam carven (281, 475, 3)\n",
      "iteracio 25 \tseam carven (281, 474, 3)\n",
      "iteracio 26 \tseam carven (281, 473, 3)\n",
      "iteracio 27 \tseam carven (281, 472, 3)\n",
      "iteracio 28 \tseam carven (281, 471, 3)\n",
      "iteracio 29 \tseam carven (281, 470, 3)\n",
      "iteracio 30 \tseam carven (281, 469, 3)\n",
      "iteracio 31 \tseam carven (281, 468, 3)\n",
      "iteracio 32 \tseam carven (281, 467, 3)\n",
      "iteracio 33 \tseam carven (281, 466, 3)\n",
      "iteracio 34 \tseam carven (281, 465, 3)\n",
      "iteracio 35 \tseam carven (281, 464, 3)\n",
      "iteracio 36 \tseam carven (281, 463, 3)\n",
      "iteracio 37 \tseam carven (281, 462, 3)\n",
      "iteracio 38 \tseam carven (281, 461, 3)\n",
      "iteracio 39 \tseam carven (281, 460, 3)\n",
      "iteracio 40 \tseam carven (281, 459, 3)\n",
      "iteracio 41 \tseam carven (281, 458, 3)\n",
      "iteracio 42 \tseam carven (281, 457, 3)\n",
      "iteracio 43 \tseam carven (281, 456, 3)\n",
      "iteracio 44 \tseam carven (281, 455, 3)\n",
      "iteracio 45 \tseam carven (281, 454, 3)\n",
      "iteracio 46 \tseam carven (281, 453, 3)\n",
      "iteracio 47 \tseam carven (281, 452, 3)\n",
      "iteracio 48 \tseam carven (281, 451, 3)\n",
      "iteracio 49 \tseam carven (281, 450, 3)\n",
      "iteracio 50 \tseam carven (281, 449, 3)\n",
      "iteracio 51 \tseam carven (281, 448, 3)\n",
      "iteracio 52 \tseam carven (281, 447, 3)\n",
      "iteracio 53 \tseam carven (281, 446, 3)\n",
      "iteracio 54 \tseam carven (281, 445, 3)\n",
      "iteracio 55 \tseam carven (281, 444, 3)\n",
      "iteracio 56 \tseam carven (281, 443, 3)\n",
      "iteracio 57 \tseam carven (281, 442, 3)\n",
      "iteracio 58 \tseam carven (281, 441, 3)\n",
      "iteracio 59 \tseam carven (281, 440, 3)\n",
      "iteracio 60 \tseam carven (281, 439, 3)\n",
      "iteracio 61 \tseam carven (281, 438, 3)\n",
      "iteracio 62 \tseam carven (281, 437, 3)\n",
      "iteracio 63 \tseam carven (281, 436, 3)\n",
      "iteracio 64 \tseam carven (281, 435, 3)\n",
      "iteracio 65 \tseam carven (281, 434, 3)\n",
      "iteracio 66 \tseam carven (281, 433, 3)\n",
      "iteracio 67 \tseam carven (281, 432, 3)\n",
      "iteracio 68 \tseam carven (281, 431, 3)\n",
      "iteracio 69 \tseam carven (281, 430, 3)\n",
      "iteracio 70 \tseam carven (281, 429, 3)\n",
      "iteracio 71 \tseam carven (281, 428, 3)\n",
      "iteracio 72 \tseam carven (281, 427, 3)\n",
      "iteracio 73 \tseam carven (281, 426, 3)\n",
      "iteracio 74 \tseam carven (281, 425, 3)\n",
      "iteracio 75 \tseam carven (281, 424, 3)\n",
      "iteracio 76 \tseam carven (281, 423, 3)\n",
      "iteracio 77 \tseam carven (281, 422, 3)\n",
      "iteracio 78 \tseam carven (281, 421, 3)\n",
      "iteracio 79 \tseam carven (281, 420, 3)\n",
      "iteracio 80 \tseam carven (281, 419, 3)\n",
      "iteracio 81 \tseam carven (281, 418, 3)\n",
      "iteracio 82 \tseam carven (281, 417, 3)\n",
      "iteracio 83 \tseam carven (281, 416, 3)\n",
      "iteracio 84 \tseam carven (281, 415, 3)\n",
      "iteracio 85 \tseam carven (281, 414, 3)\n",
      "iteracio 86 \tseam carven (281, 413, 3)\n",
      "iteracio 87 \tseam carven (281, 412, 3)\n",
      "iteracio 88 \tseam carven (281, 411, 3)\n",
      "iteracio 89 \tseam carven (281, 410, 3)\n",
      "iteracio 90 \tseam carven (281, 409, 3)\n",
      "iteracio 91 \tseam carven (281, 408, 3)\n",
      "iteracio 92 \tseam carven (281, 407, 3)\n",
      "iteracio 93 \tseam carven (281, 406, 3)\n",
      "iteracio 94 \tseam carven (281, 405, 3)\n",
      "iteracio 95 \tseam carven (281, 404, 3)\n",
      "iteracio 96 \tseam carven (281, 403, 3)\n",
      "iteracio 97 \tseam carven (281, 402, 3)\n",
      "iteracio 98 \tseam carven (281, 401, 3)\n",
      "iteracio 99 \tseam carven (281, 400, 3)\n"
     ]
    },
    {
     "data": {
      "text/plain": [
       "<matplotlib.image.AxesImage at 0x7f6edc621b90>"
      ]
     },
     "execution_count": 97,
     "metadata": {},
     "output_type": "execute_result"
    }
   ],
   "source": [
    "rgb =  plt.imread('countryside.jpg')\n",
    "imatge_reduida, seams=carving(rgb,100)\n",
    "fig = plt.figure(4) \n",
    "plt.title('Imatge Retallada')\n",
    "plt.imshow(imatge_reduida.astype('uint8'))\n",
    "\n",
    "#l'animació s'actibara en el seguent pas i podrem veure-la si tenim comentada la linea de %matplotlib inline al inici del document"
   ]
  },
  {
   "cell_type": "code",
   "execution_count": 98,
   "metadata": {
    "collapsed": false
   },
   "outputs": [],
   "source": [
    "######################Comparacio RESULTATS\n",
    "ani = animation.ArtistAnimation(fig, seams, interval=100, blit=True, repeat_delay=1000);\n",
    "plt.show();\n",
    "scipy.misc.imsave('Reduccion_final.jpg', imatge_reduida)\n",
    "plt.subplot(1,2,1)\n",
    "plt.imshow(plt.imread('countryside.jpg').astype('uint8'))\n",
    "plt.title('Original')\n",
    "plt.subplot(1,2,2)\n",
    "plt.imshow(rgb.astype('uint8'))\n",
    "plt.title('Reduccion 100 iteracions')\n",
    "plt.gcf().set_size_inches((15,15))\n",
    "\n"
   ]
  },
  {
   "cell_type": "code",
   "execution_count": 94,
   "metadata": {
    "collapsed": false
   },
   "outputs": [],
   "source": [
    "\n"
   ]
  },
  {
   "cell_type": "code",
   "execution_count": null,
   "metadata": {
    "collapsed": true
   },
   "outputs": [],
   "source": []
  }
 ],
 "metadata": {
  "kernelspec": {
   "display_name": "Python 2",
   "language": "python",
   "name": "python2"
  },
  "language_info": {
   "codemirror_mode": {
    "name": "ipython",
    "version": 2
   },
   "file_extension": ".py",
   "mimetype": "text/x-python",
   "name": "python",
   "nbconvert_exporter": "python",
   "pygments_lexer": "ipython2",
   "version": "2.7.10"
  }
 },
 "nbformat": 4,
 "nbformat_minor": 0
}
