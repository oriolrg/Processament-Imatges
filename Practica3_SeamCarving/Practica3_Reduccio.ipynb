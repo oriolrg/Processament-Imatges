{
 "cells": [
  {
   "cell_type": "code",
   "execution_count": 1,
   "metadata": {
    "collapsed": true
   },
   "outputs": [],
   "source": [
    "from skimage import data, draw,color, data, restoration\n",
    "from skimage import transform, util\n",
    "from scipy import misc, fftpack, signal\n",
    "import numpy as np\n",
    "from skimage import filters, color\n",
    "from matplotlib import pyplot as plt\n",
    "from PIL import Image, ImageDraw, ImageEnhance\n",
    "import matplotlib.animation as animation\n",
    "from scipy.misc import imresize\n",
    "from scipy import ndimage as nd\n",
    "import scipy\n",
    "#deixar la linea comentada perque les imatges s'obrin en una nova finestra i es pugui veure l'animació\n",
    "#%matplotlib inline"
   ]
  },
  {
   "cell_type": "code",
   "execution_count": null,
   "metadata": {
    "collapsed": true
   },
   "outputs": [],
   "source": []
  },
  {
   "cell_type": "code",
   "execution_count": null,
   "metadata": {
    "collapsed": false
   },
   "outputs": [],
   "source": []
  },
  {
   "cell_type": "code",
   "execution_count": 2,
   "metadata": {
    "collapsed": false
   },
   "outputs": [],
   "source": [
    "rgb =  plt.imread('countryside.jpg')\n",
    "img = color.rgb2gray(rgb)\n",
    "img = util.img_as_float(img)\n",
    "fig = plt.figure(1) \n",
    "plt.imshow(rgb.astype('uint8'))\n",
    "plt.title('Original Image')\n",
    "plt.show()\n"
   ]
  },
  {
   "cell_type": "code",
   "execution_count": 3,
   "metadata": {
    "collapsed": false
   },
   "outputs": [],
   "source": [
    "def gradient(img):\n",
    "    img = color.rgb2gray(img)\n",
    "    gx, gy = np.gradient(img)\n",
    "    grad = np.sqrt(gx*gx + gy*gy)\n",
    "    return grad\n",
    "grad = gradient(img)\n",
    "\n",
    "fig = plt.figure(2) \n",
    "plt.title('Contorns imatge')\n",
    "plt.imshow(grad, cmap=\"gray\" )\n",
    "plt.show()"
   ]
  },
  {
   "cell_type": "code",
   "execution_count": 4,
   "metadata": {
    "collapsed": false
   },
   "outputs": [],
   "source": [
    "#normalitzacio d'imatge\n",
    "def normalitzar(imatge):\n",
    "    return np.real((imatge - np.min(imatge)) * 256 / (np.max(imatge) - np.min(imatge)))"
   ]
  },
  {
   "cell_type": "code",
   "execution_count": 5,
   "metadata": {
    "collapsed": false
   },
   "outputs": [],
   "source": [
    "\n",
    "#Calcul matriu d'energia que acomulada te cada zona\n",
    "def energia(imatge):\n",
    "    height,width = imatge.shape\n",
    "    energia=np.zeros(imatge.shape)\n",
    "    #asignem la primera linea igual que la imatge que tenim\n",
    "    energia[0]=imatge[0]   \n",
    "    for x in range(1,height):\n",
    "        for y in range(0,width):\n",
    "            if y == 0:#inici de la imatge\n",
    "                min_val = min( energia[x-1, y], energia[x-1, y+1] )\n",
    "            elif y < width - 2:#abans del final de la imatge\n",
    "                min_val = min( energia[x-1, y], energia[x-1, y+1] )\n",
    "                min_val = min( min_val, energia[x-1, y-1] )\n",
    "            else:#final de la imatge\n",
    "                min_val = min( energia[x-1, y], energia[x-1, y-1] )\n",
    "            energia[x,y] = imatge[x,y] + min_val#valor acomulat d'energia\n",
    "    return energia\n",
    "            \n",
    "    \n",
    "    "
   ]
  },
  {
   "cell_type": "code",
   "execution_count": 6,
   "metadata": {
    "collapsed": false
   },
   "outputs": [],
   "source": [
    "grad=normalitzar(grad)\n",
    "E = energia(grad)\n",
    "fig = plt.figure(3) \n",
    "plt.title('Acumulacio energia')\n",
    "plt.imshow(E, cmap=\"gray\" )\n",
    "plt.show()\n",
    "\n",
    "\n"
   ]
  },
  {
   "cell_type": "code",
   "execution_count": 7,
   "metadata": {
    "collapsed": false
   },
   "outputs": [],
   "source": [
    "# El calcul del tall vertical hem de buscar el cami amb cost minim. BACKTRACKING\n",
    "# Aquest tall pot ser vertical o horitzontal, es un camí de pixels connectats. En el nostre cas l'apliquem vertical\n",
    "# La función de importancia / energía valora un píxel mediante la medición de su contraste con sus píxeles vecinos.\n",
    "# Des de la imatge en escala de grisos retornarem el tall vertical mes baix com a llista de pixels\n",
    "\n",
    "def tall_vertical(grad,cost):\n",
    "    # Anem fins al -1 perque aixi es quedara en el 0, que tambe el necessitem.\n",
    "    width, height = grad.shape\n",
    "    min_val =np.max(cost)+1\n",
    "    path = []\n",
    "    for y in range(height):\n",
    "        if cost[width-1,y] < min_val:\n",
    "            min_val = cost[width-1,y]\n",
    "            min_ptr = y\n",
    "            \n",
    "    pos = (width-1, min_ptr)\n",
    "    path.append(pos) \n",
    "    while pos[0] != 0:\n",
    "        val = cost[pos] - grad[pos]\n",
    "        x,y = pos\n",
    "        if y == 0:\n",
    "            if val == cost[x-1,y+1]:\n",
    "                pos = (x-1,y+1)\n",
    "            else:\n",
    "                pos = (x-1,y)\n",
    "        elif y <= height - 2:\n",
    "            if val == cost[x-1,y+1]:\n",
    "                pos = (x-1,y+1)\n",
    "            elif val == cost[x-1,y]:\n",
    "                pos = (x-1,y)\n",
    "            else:\n",
    "                pos = (x-1,y-1)\n",
    "        else:\n",
    "            if val == cost[x-1,y]:\n",
    "                pos = (x-1,y)\n",
    "            else:\n",
    "                pos = (x-1,y-1)\n",
    "                \n",
    "        path.append(pos)  \n",
    "    return path \n"
   ]
  },
  {
   "cell_type": "code",
   "execution_count": 8,
   "metadata": {
    "collapsed": false
   },
   "outputs": [],
   "source": [
    "def borrar_cami (img, path):\n",
    "    height, width = img.shape[:2]\n",
    "    img_retallada = np.zeros((height, width-1, img.shape[2]))\n",
    "    path_cpy = set(path)\n",
    "    visitat = set()\n",
    "    #print path[1]\n",
    "    for x in range(height):\n",
    "        for y in range(width):\n",
    "            if x not in visitat and (x,y) not in path_cpy:\n",
    "                img_retallada[x,y] = img[x,y]\n",
    "            elif (x,y) in path_cpy:\n",
    "                visitat.add(x)\n",
    "            else:\n",
    "                img_retallada[x,y-1] = img[x,y]\n",
    "    #print img_retallada.shape\n",
    "    return img_retallada;\n",
    "\n",
    "def mark_seam (mat, path, mark_as='red'):\n",
    "    #Dono maxim valor al canal corresponent al color escollit a tots els pixels del path que ens marca el cami a borrar\n",
    "    for i in path:\n",
    "        if mark_as == 'red':\n",
    "            mat[i] = (255,0,0)\n",
    "        elif mark_as == 'green':\n",
    "            mat[i] = (0,255,0)\n",
    "        elif mark_as == 'blue':\n",
    "            mat[i] = (0,0,255)\n",
    "        elif mark_as == 'white':\n",
    "            mat[i] = (255,255,255)\n",
    "        elif mark_as == 'black':\n",
    "            mat[i] = (0,0,0)\n",
    "    \n",
    "    return mat;          \n"
   ]
  },
  {
   "cell_type": "code",
   "execution_count": 9,
   "metadata": {
    "collapsed": false
   },
   "outputs": [],
   "source": [
    "def carving(imatge,iterations):\n",
    "    path = []\n",
    "    rgb = imatge\n",
    "    seams = []\n",
    "    for t in range(iterations): \n",
    "        path = []\n",
    "        grad=gradient(rgb)\n",
    "        E = energia(grad)\n",
    "        path = tall_vertical(grad,E)\n",
    "        rgb = mark_seam(rgb, path, 'red')\n",
    "        seams.append([plt.imshow(rgb.astype('uint8'))])\n",
    "        rgb = borrar_cami(rgb, path)\n",
    "    return rgb,seams;\n"
   ]
  },
  {
   "cell_type": "code",
   "execution_count": 10,
   "metadata": {
    "collapsed": false,
    "scrolled": true
   },
   "outputs": [
    {
     "data": {
      "text/plain": [
       "<matplotlib.image.AxesImage at 0x7f19067b7a10>"
      ]
     },
     "execution_count": 10,
     "metadata": {},
     "output_type": "execute_result"
    }
   ],
   "source": [
    "rgb =  plt.imread('countryside.jpg')\n",
    "imatge_reduida, seams=carving(rgb,100)\n",
    "fig = plt.figure(4) \n",
    "plt.title('Imatge Retallada')\n",
    "plt.imshow(imatge_reduida.astype('uint8'))\n",
    "\n",
    "#l'animació s'actibara en el seguent pas i podrem veure-la si tenim comentada la linea de %matplotlib inline al inici del document"
   ]
  },
  {
   "cell_type": "code",
   "execution_count": 11,
   "metadata": {
    "collapsed": false
   },
   "outputs": [],
   "source": [
    "######################Comparacio RESULTATS\n",
    "ani = animation.ArtistAnimation(fig, seams, interval=100, blit=True, repeat_delay=1000);\n",
    "plt.show();\n",
    "scipy.misc.imsave('Reduccion_final.jpg', imatge_reduida)\n",
    "fig = plt.figure(5)\n",
    "plt.subplot(1,2,1)\n",
    "plt.imshow(plt.imread('countryside.jpg').astype('uint8'))\n",
    "plt.title('Original')\n",
    "plt.subplot(1,2,2)\n",
    "plt.imshow(rgb.astype('uint8'))\n",
    "plt.title('Reduccion 100 iteracions')\n",
    "plt.gcf().set_size_inches((15,15))\n",
    "plt.show()\n",
    "\n"
   ]
  },
  {
   "cell_type": "code",
   "execution_count": null,
   "metadata": {
    "collapsed": false
   },
   "outputs": [],
   "source": [
    "\n"
   ]
  },
  {
   "cell_type": "code",
   "execution_count": null,
   "metadata": {
    "collapsed": true
   },
   "outputs": [],
   "source": []
  }
 ],
 "metadata": {
  "kernelspec": {
   "display_name": "Python 2",
   "language": "python",
   "name": "python2"
  },
  "language_info": {
   "codemirror_mode": {
    "name": "ipython",
    "version": 2
   },
   "file_extension": ".py",
   "mimetype": "text/x-python",
   "name": "python",
   "nbconvert_exporter": "python",
   "pygments_lexer": "ipython2",
   "version": "2.7.10"
  }
 },
 "nbformat": 4,
 "nbformat_minor": 0
}
